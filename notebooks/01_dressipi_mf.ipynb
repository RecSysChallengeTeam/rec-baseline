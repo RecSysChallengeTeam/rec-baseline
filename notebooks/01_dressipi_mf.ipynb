{
 "cells": [
  {
   "cell_type": "markdown",
   "metadata": {},
   "source": [
    "# Matrix factorization for dressipi dataset tutorial\n",
    "\n",
    "[Dressipi](https://dressipi.com/) is the UK's leading fashion discovery platform. It is a fashion recommendation engine that helps users discover new fashion items based on their preferences. \n",
    "In this notebook, we will use the dressipi dataset to build a baseline model using matrix factorization."
   ]
  },
  {
   "cell_type": "code",
   "execution_count": 1,
   "metadata": {},
   "outputs": [
    {
     "name": "stderr",
     "output_type": "stream",
     "text": [
      "/Users/nutorbit/Library/Caches/pypoetry/virtualenvs/collaborative-filtering-baseline-VTPPmAaj-py3.8/lib/python3.8/site-packages/tqdm/auto.py:22: TqdmWarning: IProgress not found. Please update jupyter and ipywidgets. See https://ipywidgets.readthedocs.io/en/stable/user_install.html\n",
      "  from .autonotebook import tqdm as notebook_tqdm\n"
     ]
    }
   ],
   "source": [
    "import torch\n",
    "import numpy as np\n",
    "import pandas as pd\n",
    "import matplotlib.pyplot as plt\n",
    "\n",
    "from itertools import product\n",
    "from rec_baseline.algos import VanillaMF\n",
    "from torch.utils.data import Dataset, DataLoader\n",
    "from rec_baseline.common import get_device\n",
    "from IPython.core.interactiveshell import InteractiveShell\n",
    "\n",
    "InteractiveShell.ast_node_interactivity = \"all\""
   ]
  },
  {
   "cell_type": "markdown",
   "metadata": {},
   "source": [
    "## Getting data\n",
    "\n",
    "We will use the dressipi dataset from [here](https://dressipi.com/downloads/recsys-datasets/)."
   ]
  },
  {
   "cell_type": "code",
   "execution_count": 2,
   "metadata": {},
   "outputs": [
    {
     "data": {
      "text/html": [
       "<div>\n",
       "<style scoped>\n",
       "    .dataframe tbody tr th:only-of-type {\n",
       "        vertical-align: middle;\n",
       "    }\n",
       "\n",
       "    .dataframe tbody tr th {\n",
       "        vertical-align: top;\n",
       "    }\n",
       "\n",
       "    .dataframe thead th {\n",
       "        text-align: right;\n",
       "    }\n",
       "</style>\n",
       "<table border=\"1\" class=\"dataframe\">\n",
       "  <thead>\n",
       "    <tr style=\"text-align: right;\">\n",
       "      <th></th>\n",
       "      <th>session_id</th>\n",
       "      <th>item_id</th>\n",
       "      <th>date</th>\n",
       "    </tr>\n",
       "  </thead>\n",
       "  <tbody>\n",
       "    <tr>\n",
       "      <th>0</th>\n",
       "      <td>3</td>\n",
       "      <td>9655</td>\n",
       "      <td>2020-12-18 21:25:00.373</td>\n",
       "    </tr>\n",
       "    <tr>\n",
       "      <th>1</th>\n",
       "      <td>3</td>\n",
       "      <td>9655</td>\n",
       "      <td>2020-12-18 21:19:48.093</td>\n",
       "    </tr>\n",
       "    <tr>\n",
       "      <th>2</th>\n",
       "      <td>13</td>\n",
       "      <td>15654</td>\n",
       "      <td>2020-03-13 19:35:27.136</td>\n",
       "    </tr>\n",
       "    <tr>\n",
       "      <th>3</th>\n",
       "      <td>18</td>\n",
       "      <td>18316</td>\n",
       "      <td>2020-08-26 19:18:30.833</td>\n",
       "    </tr>\n",
       "    <tr>\n",
       "      <th>4</th>\n",
       "      <td>18</td>\n",
       "      <td>2507</td>\n",
       "      <td>2020-08-26 19:16:31.211</td>\n",
       "    </tr>\n",
       "  </tbody>\n",
       "</table>\n",
       "</div>"
      ],
      "text/plain": [
       "   session_id  item_id                     date\n",
       "0           3     9655  2020-12-18 21:25:00.373\n",
       "1           3     9655  2020-12-18 21:19:48.093\n",
       "2          13    15654  2020-03-13 19:35:27.136\n",
       "3          18    18316  2020-08-26 19:18:30.833\n",
       "4          18     2507  2020-08-26 19:16:31.211"
      ]
     },
     "execution_count": 2,
     "metadata": {},
     "output_type": "execute_result"
    },
    {
     "data": {
      "text/plain": [
       "(4743820, 3)"
      ]
     },
     "execution_count": 2,
     "metadata": {},
     "output_type": "execute_result"
    },
    {
     "data": {
      "text/html": [
       "<div>\n",
       "<style scoped>\n",
       "    .dataframe tbody tr th:only-of-type {\n",
       "        vertical-align: middle;\n",
       "    }\n",
       "\n",
       "    .dataframe tbody tr th {\n",
       "        vertical-align: top;\n",
       "    }\n",
       "\n",
       "    .dataframe thead th {\n",
       "        text-align: right;\n",
       "    }\n",
       "</style>\n",
       "<table border=\"1\" class=\"dataframe\">\n",
       "  <thead>\n",
       "    <tr style=\"text-align: right;\">\n",
       "      <th></th>\n",
       "      <th>session_id</th>\n",
       "      <th>item_id</th>\n",
       "      <th>date</th>\n",
       "    </tr>\n",
       "  </thead>\n",
       "  <tbody>\n",
       "    <tr>\n",
       "      <th>0</th>\n",
       "      <td>3</td>\n",
       "      <td>15085</td>\n",
       "      <td>2020-12-18 21:26:47.986</td>\n",
       "    </tr>\n",
       "    <tr>\n",
       "      <th>1</th>\n",
       "      <td>13</td>\n",
       "      <td>18626</td>\n",
       "      <td>2020-03-13 19:36:15.507</td>\n",
       "    </tr>\n",
       "    <tr>\n",
       "      <th>2</th>\n",
       "      <td>18</td>\n",
       "      <td>24911</td>\n",
       "      <td>2020-08-26 19:20:32.049</td>\n",
       "    </tr>\n",
       "    <tr>\n",
       "      <th>3</th>\n",
       "      <td>19</td>\n",
       "      <td>12534</td>\n",
       "      <td>2020-11-02 17:16:45.92</td>\n",
       "    </tr>\n",
       "    <tr>\n",
       "      <th>4</th>\n",
       "      <td>24</td>\n",
       "      <td>13226</td>\n",
       "      <td>2020-02-26 18:27:44.114</td>\n",
       "    </tr>\n",
       "  </tbody>\n",
       "</table>\n",
       "</div>"
      ],
      "text/plain": [
       "   session_id  item_id                     date\n",
       "0           3    15085  2020-12-18 21:26:47.986\n",
       "1          13    18626  2020-03-13 19:36:15.507\n",
       "2          18    24911  2020-08-26 19:20:32.049\n",
       "3          19    12534   2020-11-02 17:16:45.92\n",
       "4          24    13226  2020-02-26 18:27:44.114"
      ]
     },
     "execution_count": 2,
     "metadata": {},
     "output_type": "execute_result"
    },
    {
     "data": {
      "text/plain": [
       "(1000000, 3)"
      ]
     },
     "execution_count": 2,
     "metadata": {},
     "output_type": "execute_result"
    }
   ],
   "source": [
    "session_df = pd.read_csv(\"../dataset/dressipi_recsys2022_dataset/train_sessions.csv\")\n",
    "purchase_df = pd.read_csv(\"../dataset/dressipi_recsys2022_dataset/train_purchases.csv\")\n",
    "\n",
    "session_df.head()\n",
    "session_df.shape\n",
    "\n",
    "purchase_df.head()\n",
    "purchase_df.shape"
   ]
  },
  {
   "cell_type": "markdown",
   "metadata": {},
   "source": [
    "The diagram below shows how the purchasing sessions were constructed from the full session and purchasing data. For full details, please see in [this](http://www.recsyschallenge.com/2022/dataset.html).\n",
    "\n",
    "![](../images/dressipi_data_diagram.png)"
   ]
  },
  {
   "cell_type": "markdown",
   "metadata": {},
   "source": [
    "As you can see, the data were constructed in a way of sequential recommendation. In order to use the data for matrix factorization, we need to reconstruct the data into a matrix form, like the one below.\n",
    "\n",
    "![](../images/dressipi_matrix_form.png)"
   ]
  },
  {
   "cell_type": "markdown",
   "metadata": {},
   "source": [
    "The matrix above is a session-item matrix. The rows are sessions and the columns are items. The values in the matrix are the indicator whether session `i` purchased item `j` or not.\n",
    "\n",
    "With this approach, we ignore the order of the items in the purchasing sessions. "
   ]
  },
  {
   "cell_type": "markdown",
   "metadata": {},
   "source": [
    "## Modeling\n",
    "\n",
    "In this section, we will show how to build a baseline model using matrix factorization. Naively, we can use the matrix above to build a matrix factorization model. However, this approach will not work well because the matrix is very sparse. So, we need to use a trick to make it works."
   ]
  },
  {
   "cell_type": "code",
   "execution_count": 3,
   "metadata": {},
   "outputs": [
    {
     "data": {
      "text/plain": [
       "<torch._C.Generator at 0x115959eb0>"
      ]
     },
     "execution_count": 3,
     "metadata": {},
     "output_type": "execute_result"
    }
   ],
   "source": [
    "device = get_device()\n",
    "seed = 100\n",
    "\n",
    "torch.manual_seed(seed)\n",
    "torch.cuda.manual_seed(seed)"
   ]
  },
  {
   "cell_type": "code",
   "execution_count": 4,
   "metadata": {},
   "outputs": [
    {
     "data": {
      "text/html": [
       "<div>\n",
       "<style scoped>\n",
       "    .dataframe tbody tr th:only-of-type {\n",
       "        vertical-align: middle;\n",
       "    }\n",
       "\n",
       "    .dataframe tbody tr th {\n",
       "        vertical-align: top;\n",
       "    }\n",
       "\n",
       "    .dataframe thead th {\n",
       "        text-align: right;\n",
       "    }\n",
       "</style>\n",
       "<table border=\"1\" class=\"dataframe\">\n",
       "  <thead>\n",
       "    <tr style=\"text-align: right;\">\n",
       "      <th></th>\n",
       "      <th>session_id</th>\n",
       "      <th>item_id</th>\n",
       "      <th>date</th>\n",
       "    </tr>\n",
       "  </thead>\n",
       "  <tbody>\n",
       "    <tr>\n",
       "      <th>617759</th>\n",
       "      <td>2742378</td>\n",
       "      <td>6795</td>\n",
       "      <td>2020-07-11 22:12:28.164</td>\n",
       "    </tr>\n",
       "    <tr>\n",
       "      <th>693227</th>\n",
       "      <td>3078823</td>\n",
       "      <td>20275</td>\n",
       "      <td>2020-09-24 06:31:38.484</td>\n",
       "    </tr>\n",
       "    <tr>\n",
       "      <th>906065</th>\n",
       "      <td>4023194</td>\n",
       "      <td>7267</td>\n",
       "      <td>2020-09-27 11:24:52.298</td>\n",
       "    </tr>\n",
       "    <tr>\n",
       "      <th>828507</th>\n",
       "      <td>3678659</td>\n",
       "      <td>2089</td>\n",
       "      <td>2020-10-27 14:38:28.312</td>\n",
       "    </tr>\n",
       "    <tr>\n",
       "      <th>869730</th>\n",
       "      <td>3862260</td>\n",
       "      <td>19933</td>\n",
       "      <td>2020-04-08 09:55:55.069</td>\n",
       "    </tr>\n",
       "  </tbody>\n",
       "</table>\n",
       "</div>"
      ],
      "text/plain": [
       "        session_id  item_id                     date\n",
       "617759     2742378     6795  2020-07-11 22:12:28.164\n",
       "693227     3078823    20275  2020-09-24 06:31:38.484\n",
       "906065     4023194     7267  2020-09-27 11:24:52.298\n",
       "828507     3678659     2089  2020-10-27 14:38:28.312\n",
       "869730     3862260    19933  2020-04-08 09:55:55.069"
      ]
     },
     "execution_count": 4,
     "metadata": {},
     "output_type": "execute_result"
    },
    {
     "data": {
      "text/plain": [
       "(1000, 3)"
      ]
     },
     "execution_count": 4,
     "metadata": {},
     "output_type": "execute_result"
    }
   ],
   "source": [
    "sample_purchase_df = purchase_df.sample(n=1000, random_state=seed)\n",
    "sample_purchase_df.head()\n",
    "sample_purchase_df.shape"
   ]
  },
  {
   "cell_type": "code",
   "execution_count": 5,
   "metadata": {},
   "outputs": [
    {
     "data": {
      "text/plain": [
       "(1000, 896)"
      ]
     },
     "execution_count": 5,
     "metadata": {},
     "output_type": "execute_result"
    }
   ],
   "source": [
    "n_sessions = sample_purchase_df[\"session_id\"].nunique()\n",
    "n_items = sample_purchase_df[\"item_id\"].nunique()\n",
    "\n",
    "n_sessions, n_items"
   ]
  },
  {
   "cell_type": "markdown",
   "metadata": {},
   "source": [
    "### Preprocessing"
   ]
  },
  {
   "cell_type": "code",
   "execution_count": 6,
   "metadata": {},
   "outputs": [
    {
     "data": {
      "text/html": [
       "<div>\n",
       "<style scoped>\n",
       "    .dataframe tbody tr th:only-of-type {\n",
       "        vertical-align: middle;\n",
       "    }\n",
       "\n",
       "    .dataframe tbody tr th {\n",
       "        vertical-align: top;\n",
       "    }\n",
       "\n",
       "    .dataframe thead th {\n",
       "        text-align: right;\n",
       "    }\n",
       "</style>\n",
       "<table border=\"1\" class=\"dataframe\">\n",
       "  <thead>\n",
       "    <tr style=\"text-align: right;\">\n",
       "      <th></th>\n",
       "      <th>session_id</th>\n",
       "      <th>item_id</th>\n",
       "      <th>date</th>\n",
       "    </tr>\n",
       "  </thead>\n",
       "  <tbody>\n",
       "    <tr>\n",
       "      <th>617759</th>\n",
       "      <td>0</td>\n",
       "      <td>0</td>\n",
       "      <td>2020-07-11 22:12:28.164</td>\n",
       "    </tr>\n",
       "    <tr>\n",
       "      <th>693227</th>\n",
       "      <td>1</td>\n",
       "      <td>1</td>\n",
       "      <td>2020-09-24 06:31:38.484</td>\n",
       "    </tr>\n",
       "    <tr>\n",
       "      <th>906065</th>\n",
       "      <td>2</td>\n",
       "      <td>2</td>\n",
       "      <td>2020-09-27 11:24:52.298</td>\n",
       "    </tr>\n",
       "    <tr>\n",
       "      <th>828507</th>\n",
       "      <td>3</td>\n",
       "      <td>3</td>\n",
       "      <td>2020-10-27 14:38:28.312</td>\n",
       "    </tr>\n",
       "    <tr>\n",
       "      <th>869730</th>\n",
       "      <td>4</td>\n",
       "      <td>4</td>\n",
       "      <td>2020-04-08 09:55:55.069</td>\n",
       "    </tr>\n",
       "  </tbody>\n",
       "</table>\n",
       "</div>"
      ],
      "text/plain": [
       "        session_id  item_id                     date\n",
       "617759           0        0  2020-07-11 22:12:28.164\n",
       "693227           1        1  2020-09-24 06:31:38.484\n",
       "906065           2        2  2020-09-27 11:24:52.298\n",
       "828507           3        3  2020-10-27 14:38:28.312\n",
       "869730           4        4  2020-04-08 09:55:55.069"
      ]
     },
     "execution_count": 6,
     "metadata": {},
     "output_type": "execute_result"
    }
   ],
   "source": [
    "session2idx = {session: idx for idx, session in enumerate(sample_purchase_df.session_id.unique())}\n",
    "idx2session = {idx: session for session, idx in session2idx.items()}\n",
    "\n",
    "item2idx = {item: idx for idx, item in enumerate(sample_purchase_df.item_id.unique())}\n",
    "idx2item = {idx: item for item, idx in item2idx.items()}\n",
    "\n",
    "purchase_df_copy = sample_purchase_df.copy()\n",
    "purchase_df_copy[\"session_id\"] = purchase_df_copy[\"session_id\"].apply(lambda x: session2idx[x])\n",
    "purchase_df_copy[\"item_id\"] = purchase_df_copy[\"item_id\"].apply(lambda x: item2idx[x])\n",
    "\n",
    "purchase_df_copy.head()"
   ]
  },
  {
   "cell_type": "markdown",
   "metadata": {},
   "source": [
    "Obviously, the dataset contains only purchased items. So, we need to add some negative samples to the dataset. By assuming that the items that we marked as negative samples are not purchased by the sessions."
   ]
  },
  {
   "cell_type": "code",
   "execution_count": 7,
   "metadata": {},
   "outputs": [
    {
     "data": {
      "text/html": [
       "<div>\n",
       "<style scoped>\n",
       "    .dataframe tbody tr th:only-of-type {\n",
       "        vertical-align: middle;\n",
       "    }\n",
       "\n",
       "    .dataframe tbody tr th {\n",
       "        vertical-align: top;\n",
       "    }\n",
       "\n",
       "    .dataframe thead th {\n",
       "        text-align: right;\n",
       "    }\n",
       "</style>\n",
       "<table border=\"1\" class=\"dataframe\">\n",
       "  <thead>\n",
       "    <tr style=\"text-align: right;\">\n",
       "      <th></th>\n",
       "      <th>session_id</th>\n",
       "      <th>item_id</th>\n",
       "      <th>date</th>\n",
       "      <th>is_purchase</th>\n",
       "    </tr>\n",
       "  </thead>\n",
       "  <tbody>\n",
       "    <tr>\n",
       "      <th>0</th>\n",
       "      <td>0</td>\n",
       "      <td>0</td>\n",
       "      <td>2020-07-11 22:12:28.164</td>\n",
       "      <td>1</td>\n",
       "    </tr>\n",
       "    <tr>\n",
       "      <th>1</th>\n",
       "      <td>1</td>\n",
       "      <td>1</td>\n",
       "      <td>2020-09-24 06:31:38.484</td>\n",
       "      <td>1</td>\n",
       "    </tr>\n",
       "    <tr>\n",
       "      <th>2</th>\n",
       "      <td>2</td>\n",
       "      <td>2</td>\n",
       "      <td>2020-09-27 11:24:52.298</td>\n",
       "      <td>1</td>\n",
       "    </tr>\n",
       "    <tr>\n",
       "      <th>3</th>\n",
       "      <td>3</td>\n",
       "      <td>3</td>\n",
       "      <td>2020-10-27 14:38:28.312</td>\n",
       "      <td>1</td>\n",
       "    </tr>\n",
       "    <tr>\n",
       "      <th>4</th>\n",
       "      <td>4</td>\n",
       "      <td>4</td>\n",
       "      <td>2020-04-08 09:55:55.069</td>\n",
       "      <td>1</td>\n",
       "    </tr>\n",
       "  </tbody>\n",
       "</table>\n",
       "</div>"
      ],
      "text/plain": [
       "   session_id  item_id                     date  is_purchase\n",
       "0           0        0  2020-07-11 22:12:28.164            1\n",
       "1           1        1  2020-09-24 06:31:38.484            1\n",
       "2           2        2  2020-09-27 11:24:52.298            1\n",
       "3           3        3  2020-10-27 14:38:28.312            1\n",
       "4           4        4  2020-04-08 09:55:55.069            1"
      ]
     },
     "execution_count": 7,
     "metadata": {},
     "output_type": "execute_result"
    },
    {
     "data": {
      "text/html": [
       "<div>\n",
       "<style scoped>\n",
       "    .dataframe tbody tr th:only-of-type {\n",
       "        vertical-align: middle;\n",
       "    }\n",
       "\n",
       "    .dataframe tbody tr th {\n",
       "        vertical-align: top;\n",
       "    }\n",
       "\n",
       "    .dataframe thead th {\n",
       "        text-align: right;\n",
       "    }\n",
       "</style>\n",
       "<table border=\"1\" class=\"dataframe\">\n",
       "  <thead>\n",
       "    <tr style=\"text-align: right;\">\n",
       "      <th></th>\n",
       "      <th>session_id</th>\n",
       "      <th>item_id</th>\n",
       "      <th>date</th>\n",
       "      <th>is_purchase</th>\n",
       "    </tr>\n",
       "  </thead>\n",
       "  <tbody>\n",
       "    <tr>\n",
       "      <th>10995</th>\n",
       "      <td>999</td>\n",
       "      <td>10982</td>\n",
       "      <td>NaN</td>\n",
       "      <td>0</td>\n",
       "    </tr>\n",
       "    <tr>\n",
       "      <th>10996</th>\n",
       "      <td>999</td>\n",
       "      <td>25102</td>\n",
       "      <td>NaN</td>\n",
       "      <td>0</td>\n",
       "    </tr>\n",
       "    <tr>\n",
       "      <th>10997</th>\n",
       "      <td>999</td>\n",
       "      <td>13542</td>\n",
       "      <td>NaN</td>\n",
       "      <td>0</td>\n",
       "    </tr>\n",
       "    <tr>\n",
       "      <th>10998</th>\n",
       "      <td>999</td>\n",
       "      <td>24488</td>\n",
       "      <td>NaN</td>\n",
       "      <td>0</td>\n",
       "    </tr>\n",
       "    <tr>\n",
       "      <th>10999</th>\n",
       "      <td>999</td>\n",
       "      <td>13957</td>\n",
       "      <td>NaN</td>\n",
       "      <td>0</td>\n",
       "    </tr>\n",
       "  </tbody>\n",
       "</table>\n",
       "</div>"
      ],
      "text/plain": [
       "       session_id  item_id date  is_purchase\n",
       "10995         999    10982  NaN            0\n",
       "10996         999    25102  NaN            0\n",
       "10997         999    13542  NaN            0\n",
       "10998         999    24488  NaN            0\n",
       "10999         999    13957  NaN            0"
      ]
     },
     "execution_count": 7,
     "metadata": {},
     "output_type": "execute_result"
    }
   ],
   "source": [
    "purchase_df_copy[\"is_purchase\"] = 1\n",
    "\n",
    "# negative samples\n",
    "negative_samples = []\n",
    "for session in purchase_df_copy[\"session_id\"].unique():\n",
    "    negative_items = sample_purchase_df[~sample_purchase_df[\"item_id\"].isin(purchase_df_copy[purchase_df_copy[\"session_id\"] == session][\"item_id\"].unique())][\"item_id\"].unique()\n",
    "    choices = np.array(list(product([session], negative_items)))\n",
    "    rng = np.random.default_rng(seed + session)\n",
    "    idx = rng.choice(len(choices), size=10, replace=False)\n",
    "    negative_samples.extend(choices[idx])\n",
    "\n",
    "negative_samples_df = pd.DataFrame(negative_samples, columns=[\"session_id\", \"item_id\"])\n",
    "\n",
    "negative_samples_df[\"is_purchase\"] = 0\n",
    "\n",
    "combined_df = pd.concat([purchase_df_copy, negative_samples_df], axis=0).reset_index(drop=True)\n",
    "combined_df.head()\n",
    "combined_df.tail()"
   ]
  },
  {
   "cell_type": "markdown",
   "metadata": {},
   "source": [
    "### Naive approach"
   ]
  },
  {
   "cell_type": "markdown",
   "metadata": {},
   "source": [
    "#### Hyperparameter"
   ]
  },
  {
   "cell_type": "code",
   "execution_count": 8,
   "metadata": {},
   "outputs": [],
   "source": [
    "N_EPOCH = 20\n",
    "BATCH_SIZE = 1024\n",
    "LEARNING_RATE = 3e-3\n",
    "LATENT_DIM = 7"
   ]
  },
  {
   "cell_type": "markdown",
   "metadata": {},
   "source": [
    "#### Creating a dataloader"
   ]
  },
  {
   "cell_type": "code",
   "execution_count": 9,
   "metadata": {},
   "outputs": [],
   "source": [
    "class CustomDataset(Dataset):\n",
    "    def __init__(self, df):\n",
    "        self.df = df\n",
    "        \n",
    "    def __len__(self):\n",
    "        return len(self.df)\n",
    "    \n",
    "    def __getitem__(self, idx):\n",
    "        session_id = self.df.iloc[idx].session_id\n",
    "        item_id = self.df.iloc[idx].item_id\n",
    "        rating = self.df.iloc[idx].is_purchase\n",
    "        \n",
    "        return session_id.astype(\"int\"), item_id.astype(\"int\"), rating.astype(\"float32\")"
   ]
  },
  {
   "cell_type": "code",
   "execution_count": 10,
   "metadata": {},
   "outputs": [],
   "source": [
    "# Train test split\n",
    "train_df = combined_df.copy().sample(frac=0.8, random_state=seed)\n",
    "test_df = combined_df.copy().drop(train_df.index)\n",
    "\n",
    "# Create dataloader\n",
    "train_loader = DataLoader(\n",
    "    CustomDataset(train_df.copy()),\n",
    "    batch_size=BATCH_SIZE,\n",
    "    shuffle=True,\n",
    ")\n",
    "\n",
    "test_loader = DataLoader(\n",
    "    CustomDataset(test_df.copy()),\n",
    "    batch_size=test_df.shape[0],\n",
    ")"
   ]
  },
  {
   "cell_type": "code",
   "execution_count": 11,
   "metadata": {},
   "outputs": [
    {
     "data": {
      "text/plain": [
       "[tensor([646, 268, 730,  ...,  80, 701, 399]),\n",
       " tensor([ 8130, 23038, 22567,  ..., 19514,   653, 26106]),\n",
       " tensor([0., 0., 0.,  ..., 0., 1., 0.])]"
      ]
     },
     "execution_count": 11,
     "metadata": {},
     "output_type": "execute_result"
    }
   ],
   "source": [
    "# Sample batch output\n",
    "iter(train_loader).next()"
   ]
  },
  {
   "cell_type": "markdown",
   "metadata": {},
   "source": [
    "#### Defining the model"
   ]
  },
  {
   "cell_type": "code",
   "execution_count": 12,
   "metadata": {},
   "outputs": [],
   "source": [
    "naive_model = VanillaMF(\n",
    "    n_users=n_sessions, \n",
    "    n_items=n_items,\n",
    "    latent_dim=LATENT_DIM\n",
    ").to(device)"
   ]
  },
  {
   "cell_type": "code",
   "execution_count": 13,
   "metadata": {},
   "outputs": [],
   "source": [
    "opt = torch.optim.Adam(naive_model.parameters(), lr=LEARNING_RATE)"
   ]
  },
  {
   "cell_type": "code",
   "execution_count": 14,
   "metadata": {},
   "outputs": [
    {
     "name": "stdout",
     "output_type": "stream",
     "text": [
      "Epoch: 1, training_loss: 0.7649, validation_loss: 0.7481\n",
      "Epoch: 2, training_loss: 0.7575, validation_loss: 0.7480\n",
      "Epoch: 3, training_loss: 0.7524, validation_loss: 0.7478\n",
      "Epoch: 4, training_loss: 0.7484, validation_loss: 0.7476\n",
      "Epoch: 5, training_loss: 0.7440, validation_loss: 0.7474\n",
      "Epoch: 6, training_loss: 0.7397, validation_loss: 0.7472\n",
      "Epoch: 7, training_loss: 0.7333, validation_loss: 0.7470\n",
      "Epoch: 8, training_loss: 0.7294, validation_loss: 0.7469\n",
      "Epoch: 9, training_loss: 0.7274, validation_loss: 0.7468\n",
      "Epoch: 10, training_loss: 0.7194, validation_loss: 0.7467\n",
      "Epoch: 11, training_loss: 0.7178, validation_loss: 0.7465\n",
      "Epoch: 12, training_loss: 0.7134, validation_loss: 0.7464\n",
      "Epoch: 13, training_loss: 0.7097, validation_loss: 0.7463\n",
      "Epoch: 14, training_loss: 0.7060, validation_loss: 0.7462\n",
      "Epoch: 15, training_loss: 0.7031, validation_loss: 0.7461\n",
      "Epoch: 16, training_loss: 0.6993, validation_loss: 0.7460\n",
      "Epoch: 17, training_loss: 0.6963, validation_loss: 0.7460\n",
      "Epoch: 18, training_loss: 0.6926, validation_loss: 0.7459\n",
      "Epoch: 19, training_loss: 0.6914, validation_loss: 0.7458\n",
      "Epoch: 20, training_loss: 0.6866, validation_loss: 0.7457\n"
     ]
    }
   ],
   "source": [
    "from rec_baseline.trainer import MFTrainer\n",
    "\n",
    "\n",
    "trainer = MFTrainer(\n",
    "    model=naive_model, \n",
    "    optimizer=opt, \n",
    "    # loss_fn=naive_model.loss_fn,\n",
    "    loss_fn=torch.nn.functional.binary_cross_entropy_with_logits,\n",
    "    device=device\n",
    ")\n",
    "\n",
    "hist = trainer.fit(\n",
    "    train_loader=train_loader,\n",
    "    val_loader=test_loader,\n",
    "    epochs=N_EPOCH,\n",
    "    verbose=1\n",
    ")"
   ]
  },
  {
   "cell_type": "code",
   "execution_count": 15,
   "metadata": {},
   "outputs": [
    {
     "data": {
      "image/png": "[encoded data removed]",
      "text/plain": [
       "<Figure size 640x480 with 1 Axes>"
      ]
     },
     "metadata": {},
     "output_type": "display_data"
    }
   ],
   "source": [
    "_ = plt.plot(hist[\"training_loss\"], label=\"Train\")\n",
    "_ = plt.plot(hist[\"validation_loss\"], label=\"Test\")\n",
    "_ = plt.xlabel(\"Timesteps\")\n",
    "_ = plt.ylabel(\"MSE Loss\")\n",
    "_ = plt.legend()"
   ]
  },
  {
   "cell_type": "code",
   "execution_count": null,
   "metadata": {},
   "outputs": [],
   "source": []
  }
 ],
 "metadata": {
  "kernelspec": {
   "display_name": "Python 3 (ipykernel)",
   "language": "python",
   "name": "python3"
  },
  "language_info": {
   "codemirror_mode": {
    "name": "ipython",
    "version": 3
   },
   "file_extension": ".py",
   "mimetype": "text/x-python",
   "name": "python",
   "nbconvert_exporter": "python",
   "pygments_lexer": "ipython3",
   "version": "3.8.11"
  },
  "vscode": {
   "interpreter": {
    "hash": "afd1f7ffc062ff2fc07ba34d24902c57664ba1b7dda52fccc5b49867783f520c"
   }
  }
 },
 "nbformat": 4,
 "nbformat_minor": 4
}
