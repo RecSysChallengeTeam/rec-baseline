{
 "cells": [
  {
   "attachments": {},
   "cell_type": "markdown",
   "metadata": {},
   "source": [
    "# GRU4Rec for dressipi dataset tutorial\n",
    "\n",
    "[Dressipi](https://dressipi.com/) is the UK's leading fashion discovery platform. It is a fashion recommendation engine that helps users discover new fashion items based on their preferences. \n",
    "In this notebook, we will use the dressipi dataset to build a baseline model using matrix factorization."
   ]
  },
  {
   "cell_type": "code",
   "execution_count": 1,
   "metadata": {},
   "outputs": [
    {
     "name": "stderr",
     "output_type": "stream",
     "text": [
      "/Users/nutorbit/Library/Caches/pypoetry/virtualenvs/collaborative-filtering-baseline-VTPPmAaj-py3.8/lib/python3.8/site-packages/tqdm/auto.py:22: TqdmWarning: IProgress not found. Please update jupyter and ipywidgets. See https://ipywidgets.readthedocs.io/en/stable/user_install.html\n",
      "  from .autonotebook import tqdm as notebook_tqdm\n"
     ]
    }
   ],
   "source": [
    "import torch\n",
    "import numpy as np\n",
    "import pandas as pd\n",
    "import matplotlib.pyplot as plt\n",
    "\n",
    "from itertools import product\n",
    "from rec_baseline.algos import GRU4Rec\n",
    "from torch.utils.data import Dataset, DataLoader\n",
    "from rec_baseline.common import get_device\n",
    "from IPython.core.interactiveshell import InteractiveShell\n",
    "\n",
    "InteractiveShell.ast_node_interactivity = \"all\""
   ]
  },
  {
   "cell_type": "markdown",
   "metadata": {},
   "source": [
    "## Getting data\n",
    "\n",
    "We will use the dressipi dataset from [here](https://dressipi.com/downloads/recsys-datasets/)."
   ]
  },
  {
   "cell_type": "code",
   "execution_count": 2,
   "metadata": {},
   "outputs": [
    {
     "data": {
      "text/html": [
       "<div>\n",
       "<style scoped>\n",
       "    .dataframe tbody tr th:only-of-type {\n",
       "        vertical-align: middle;\n",
       "    }\n",
       "\n",
       "    .dataframe tbody tr th {\n",
       "        vertical-align: top;\n",
       "    }\n",
       "\n",
       "    .dataframe thead th {\n",
       "        text-align: right;\n",
       "    }\n",
       "</style>\n",
       "<table border=\"1\" class=\"dataframe\">\n",
       "  <thead>\n",
       "    <tr style=\"text-align: right;\">\n",
       "      <th></th>\n",
       "      <th>session_id</th>\n",
       "      <th>item_id</th>\n",
       "      <th>date</th>\n",
       "    </tr>\n",
       "  </thead>\n",
       "  <tbody>\n",
       "    <tr>\n",
       "      <th>0</th>\n",
       "      <td>3</td>\n",
       "      <td>9655</td>\n",
       "      <td>2020-12-18 21:25:00.373</td>\n",
       "    </tr>\n",
       "    <tr>\n",
       "      <th>1</th>\n",
       "      <td>3</td>\n",
       "      <td>9655</td>\n",
       "      <td>2020-12-18 21:19:48.093</td>\n",
       "    </tr>\n",
       "    <tr>\n",
       "      <th>2</th>\n",
       "      <td>13</td>\n",
       "      <td>15654</td>\n",
       "      <td>2020-03-13 19:35:27.136</td>\n",
       "    </tr>\n",
       "    <tr>\n",
       "      <th>3</th>\n",
       "      <td>18</td>\n",
       "      <td>18316</td>\n",
       "      <td>2020-08-26 19:18:30.833</td>\n",
       "    </tr>\n",
       "    <tr>\n",
       "      <th>4</th>\n",
       "      <td>18</td>\n",
       "      <td>2507</td>\n",
       "      <td>2020-08-26 19:16:31.211</td>\n",
       "    </tr>\n",
       "  </tbody>\n",
       "</table>\n",
       "</div>"
      ],
      "text/plain": [
       "   session_id  item_id                     date\n",
       "0           3     9655  2020-12-18 21:25:00.373\n",
       "1           3     9655  2020-12-18 21:19:48.093\n",
       "2          13    15654  2020-03-13 19:35:27.136\n",
       "3          18    18316  2020-08-26 19:18:30.833\n",
       "4          18     2507  2020-08-26 19:16:31.211"
      ]
     },
     "execution_count": 2,
     "metadata": {},
     "output_type": "execute_result"
    },
    {
     "data": {
      "text/plain": [
       "(4743820, 3)"
      ]
     },
     "execution_count": 2,
     "metadata": {},
     "output_type": "execute_result"
    },
    {
     "data": {
      "text/html": [
       "<div>\n",
       "<style scoped>\n",
       "    .dataframe tbody tr th:only-of-type {\n",
       "        vertical-align: middle;\n",
       "    }\n",
       "\n",
       "    .dataframe tbody tr th {\n",
       "        vertical-align: top;\n",
       "    }\n",
       "\n",
       "    .dataframe thead th {\n",
       "        text-align: right;\n",
       "    }\n",
       "</style>\n",
       "<table border=\"1\" class=\"dataframe\">\n",
       "  <thead>\n",
       "    <tr style=\"text-align: right;\">\n",
       "      <th></th>\n",
       "      <th>session_id</th>\n",
       "      <th>item_id</th>\n",
       "      <th>date</th>\n",
       "    </tr>\n",
       "  </thead>\n",
       "  <tbody>\n",
       "    <tr>\n",
       "      <th>0</th>\n",
       "      <td>3</td>\n",
       "      <td>15085</td>\n",
       "      <td>2020-12-18 21:26:47.986</td>\n",
       "    </tr>\n",
       "    <tr>\n",
       "      <th>1</th>\n",
       "      <td>13</td>\n",
       "      <td>18626</td>\n",
       "      <td>2020-03-13 19:36:15.507</td>\n",
       "    </tr>\n",
       "    <tr>\n",
       "      <th>2</th>\n",
       "      <td>18</td>\n",
       "      <td>24911</td>\n",
       "      <td>2020-08-26 19:20:32.049</td>\n",
       "    </tr>\n",
       "    <tr>\n",
       "      <th>3</th>\n",
       "      <td>19</td>\n",
       "      <td>12534</td>\n",
       "      <td>2020-11-02 17:16:45.92</td>\n",
       "    </tr>\n",
       "    <tr>\n",
       "      <th>4</th>\n",
       "      <td>24</td>\n",
       "      <td>13226</td>\n",
       "      <td>2020-02-26 18:27:44.114</td>\n",
       "    </tr>\n",
       "  </tbody>\n",
       "</table>\n",
       "</div>"
      ],
      "text/plain": [
       "   session_id  item_id                     date\n",
       "0           3    15085  2020-12-18 21:26:47.986\n",
       "1          13    18626  2020-03-13 19:36:15.507\n",
       "2          18    24911  2020-08-26 19:20:32.049\n",
       "3          19    12534   2020-11-02 17:16:45.92\n",
       "4          24    13226  2020-02-26 18:27:44.114"
      ]
     },
     "execution_count": 2,
     "metadata": {},
     "output_type": "execute_result"
    },
    {
     "data": {
      "text/plain": [
       "(1000000, 3)"
      ]
     },
     "execution_count": 2,
     "metadata": {},
     "output_type": "execute_result"
    }
   ],
   "source": [
    "session_df = pd.read_csv(\"../dataset/dressipi_recsys2022_dataset/train_sessions.csv\")\n",
    "purchase_df = pd.read_csv(\"../dataset/dressipi_recsys2022_dataset/train_purchases.csv\")\n",
    "\n",
    "session_df.head()\n",
    "session_df.shape\n",
    "\n",
    "purchase_df.head()\n",
    "purchase_df.shape"
   ]
  },
  {
   "cell_type": "markdown",
   "metadata": {},
   "source": [
    "The diagram below shows how the purchasing sessions were constructed from the full session and purchasing data. For full details, please see in [this](http://www.recsyschallenge.com/2022/dataset.html).\n",
    "\n",
    "![](../images/dressipi_data_diagram.png)"
   ]
  },
  {
   "cell_type": "code",
   "execution_count": 3,
   "metadata": {},
   "outputs": [
    {
     "data": {
      "text/plain": [
       "613"
      ]
     },
     "execution_count": 3,
     "metadata": {},
     "output_type": "execute_result"
    }
   ],
   "source": [
    "sample_session_df = session_df.tail(10_000).copy()\n",
    "\n",
    "# get only item ids that occur more than 5 times\n",
    "item_counts = sample_session_df[\"item_id\"].value_counts()\n",
    "item_counts = item_counts[item_counts > 5]\n",
    "\n",
    "sample_session_df = sample_session_df[sample_session_df[\"item_id\"].isin(item_counts.index)].copy()\n",
    "sample_purchase_df = purchase_df[purchase_df[\"session_id\"].isin(sample_session_df[\"session_id\"])].copy()\n",
    "\n",
    "all_items = set(sample_session_df[\"item_id\"].tolist() + sample_purchase_df[\"item_id\"].tolist())\n",
    "len(all_items)"
   ]
  },
  {
   "cell_type": "code",
   "execution_count": 4,
   "metadata": {},
   "outputs": [
    {
     "data": {
      "text/html": [
       "<div>\n",
       "<style scoped>\n",
       "    .dataframe tbody tr th:only-of-type {\n",
       "        vertical-align: middle;\n",
       "    }\n",
       "\n",
       "    .dataframe tbody tr th {\n",
       "        vertical-align: top;\n",
       "    }\n",
       "\n",
       "    .dataframe thead th {\n",
       "        text-align: right;\n",
       "    }\n",
       "</style>\n",
       "<table border=\"1\" class=\"dataframe\">\n",
       "  <thead>\n",
       "    <tr style=\"text-align: right;\">\n",
       "      <th></th>\n",
       "      <th>session_id</th>\n",
       "      <th>item_id</th>\n",
       "      <th>date</th>\n",
       "    </tr>\n",
       "  </thead>\n",
       "  <tbody>\n",
       "    <tr>\n",
       "      <th>4733821</th>\n",
       "      <td>0</td>\n",
       "      <td>461</td>\n",
       "      <td>2020-05-17 15:52:31.194</td>\n",
       "    </tr>\n",
       "    <tr>\n",
       "      <th>4733848</th>\n",
       "      <td>1</td>\n",
       "      <td>79</td>\n",
       "      <td>2020-02-18 12:25:34.971</td>\n",
       "    </tr>\n",
       "    <tr>\n",
       "      <th>4733853</th>\n",
       "      <td>2</td>\n",
       "      <td>139</td>\n",
       "      <td>2021-04-09 09:27:35.591</td>\n",
       "    </tr>\n",
       "    <tr>\n",
       "      <th>4733859</th>\n",
       "      <td>3</td>\n",
       "      <td>243</td>\n",
       "      <td>2020-11-28 22:40:00.173</td>\n",
       "    </tr>\n",
       "    <tr>\n",
       "      <th>4733860</th>\n",
       "      <td>3</td>\n",
       "      <td>536</td>\n",
       "      <td>2020-11-28 22:42:37.596</td>\n",
       "    </tr>\n",
       "  </tbody>\n",
       "</table>\n",
       "</div>"
      ],
      "text/plain": [
       "         session_id  item_id                     date\n",
       "4733821           0      461  2020-05-17 15:52:31.194\n",
       "4733848           1       79  2020-02-18 12:25:34.971\n",
       "4733853           2      139  2021-04-09 09:27:35.591\n",
       "4733859           3      243  2020-11-28 22:40:00.173\n",
       "4733860           3      536  2020-11-28 22:42:37.596"
      ]
     },
     "execution_count": 4,
     "metadata": {},
     "output_type": "execute_result"
    },
    {
     "data": {
      "text/html": [
       "<div>\n",
       "<style scoped>\n",
       "    .dataframe tbody tr th:only-of-type {\n",
       "        vertical-align: middle;\n",
       "    }\n",
       "\n",
       "    .dataframe tbody tr th {\n",
       "        vertical-align: top;\n",
       "    }\n",
       "\n",
       "    .dataframe thead th {\n",
       "        text-align: right;\n",
       "    }\n",
       "</style>\n",
       "<table border=\"1\" class=\"dataframe\">\n",
       "  <thead>\n",
       "    <tr style=\"text-align: right;\">\n",
       "      <th></th>\n",
       "      <th>session_id</th>\n",
       "      <th>item_id</th>\n",
       "      <th>date</th>\n",
       "    </tr>\n",
       "  </thead>\n",
       "  <tbody>\n",
       "    <tr>\n",
       "      <th>997866</th>\n",
       "      <td>0</td>\n",
       "      <td>316</td>\n",
       "      <td>2020-05-17 19:24:01.576</td>\n",
       "    </tr>\n",
       "    <tr>\n",
       "      <th>997875</th>\n",
       "      <td>1</td>\n",
       "      <td>193</td>\n",
       "      <td>2020-02-18 12:26:45.717</td>\n",
       "    </tr>\n",
       "    <tr>\n",
       "      <th>997876</th>\n",
       "      <td>2</td>\n",
       "      <td>449</td>\n",
       "      <td>2021-04-09 09:29:39.818</td>\n",
       "    </tr>\n",
       "    <tr>\n",
       "      <th>997878</th>\n",
       "      <td>3</td>\n",
       "      <td>355</td>\n",
       "      <td>2020-11-28 22:46:42.751</td>\n",
       "    </tr>\n",
       "    <tr>\n",
       "      <th>997884</th>\n",
       "      <td>4</td>\n",
       "      <td>112</td>\n",
       "      <td>2020-09-09 21:13:09.124</td>\n",
       "    </tr>\n",
       "  </tbody>\n",
       "</table>\n",
       "</div>"
      ],
      "text/plain": [
       "        session_id  item_id                     date\n",
       "997866           0      316  2020-05-17 19:24:01.576\n",
       "997875           1      193  2020-02-18 12:26:45.717\n",
       "997876           2      449  2021-04-09 09:29:39.818\n",
       "997878           3      355  2020-11-28 22:46:42.751\n",
       "997884           4      112  2020-09-09 21:13:09.124"
      ]
     },
     "execution_count": 4,
     "metadata": {},
     "output_type": "execute_result"
    }
   ],
   "source": [
    "session2idx = {session: idx for idx, session in enumerate(sample_session_df[\"session_id\"].unique())}\n",
    "idx2session = {idx: session for session, idx in session2idx.items()}\n",
    "\n",
    "item2idx = {item: idx for idx, item in enumerate(all_items)}\n",
    "idx2item = {idx: item for item, idx in item2idx.items()}\n",
    "\n",
    "session_df_copy = sample_session_df.copy()\n",
    "session_df_copy[\"session_id\"] = session_df_copy[\"session_id\"].apply(lambda x: session2idx[x])\n",
    "session_df_copy[\"item_id\"] = session_df_copy[\"item_id\"].apply(lambda x: item2idx[x])\n",
    "\n",
    "purchase_df_copy = sample_purchase_df.copy()\n",
    "purchase_df_copy[\"session_id\"] = purchase_df_copy[\"session_id\"].apply(lambda x: session2idx[x])\n",
    "purchase_df_copy[\"item_id\"] = purchase_df_copy[\"item_id\"].apply(lambda x: item2idx[x])\n",
    "\n",
    "session_df_copy.head()\n",
    "purchase_df_copy.head()"
   ]
  },
  {
   "cell_type": "code",
   "execution_count": 5,
   "metadata": {},
   "outputs": [],
   "source": [
    "views_df = session_df_copy.groupby([\"session_id\"]).apply(\n",
    "    lambda x: x.sort_values([\"date\"], ascending=True)[\"item_id\"].tolist()\n",
    ").to_frame(\"views\").reset_index()\n",
    "\n",
    "views_df[\"seq_len\"] = views_df[\"views\"].apply(len)"
   ]
  },
  {
   "cell_type": "code",
   "execution_count": 6,
   "metadata": {},
   "outputs": [],
   "source": [
    "combined_df = pd.merge(\n",
    "    views_df,\n",
    "    purchase_df_copy.rename({\"item_id\": \"purchase\"}, axis=1),\n",
    "    on=\"session_id\",\n",
    ")"
   ]
  },
  {
   "cell_type": "markdown",
   "metadata": {},
   "source": [
    "## Modeling"
   ]
  },
  {
   "cell_type": "code",
   "execution_count": 7,
   "metadata": {},
   "outputs": [
    {
     "data": {
      "text/plain": [
       "<torch._C.Generator at 0x107ba8e50>"
      ]
     },
     "execution_count": 7,
     "metadata": {},
     "output_type": "execute_result"
    }
   ],
   "source": [
    "# device = get_device()\n",
    "device = \"cpu\"\n",
    "seed = 100\n",
    "\n",
    "torch.manual_seed(seed)\n",
    "torch.cuda.manual_seed(seed)"
   ]
  },
  {
   "cell_type": "code",
   "execution_count": 8,
   "metadata": {},
   "outputs": [
    {
     "data": {
      "text/plain": [
       "(638, 613)"
      ]
     },
     "execution_count": 8,
     "metadata": {},
     "output_type": "execute_result"
    }
   ],
   "source": [
    "n_sessions = combined_df[\"session_id\"].nunique()\n",
    "n_items = len(all_items)\n",
    "\n",
    "n_sessions, n_items"
   ]
  },
  {
   "cell_type": "markdown",
   "metadata": {},
   "source": [
    "### Preprocessing"
   ]
  },
  {
   "attachments": {},
   "cell_type": "markdown",
   "metadata": {},
   "source": [
    "### Hyperparameter"
   ]
  },
  {
   "cell_type": "code",
   "execution_count": 9,
   "metadata": {},
   "outputs": [],
   "source": [
    "N_EPOCH = 20\n",
    "BATCH_SIZE = 512\n",
    "LEARNING_RATE = 3e-4\n",
    "LATENT_DIM = 64"
   ]
  },
  {
   "attachments": {},
   "cell_type": "markdown",
   "metadata": {},
   "source": [
    "### Creating a dataloader"
   ]
  },
  {
   "cell_type": "code",
   "execution_count": 10,
   "metadata": {},
   "outputs": [],
   "source": [
    "class CustomDataset(Dataset):\n",
    "    def __init__(self, df):\n",
    "        self.df = df\n",
    "        \n",
    "    def __len__(self):\n",
    "        return len(self.df)\n",
    "    \n",
    "    def __getitem__(self, idx):\n",
    "        views = self.df.iloc[idx].views\n",
    "        purchase = self.df.iloc[idx].purchase\n",
    "        \n",
    "        return views, purchase\n",
    "    \n",
    "def collate_fn(batch):\n",
    "    views, purchase = zip(*batch)\n",
    "\n",
    "    views = [torch.LongTensor(view) for view in views]\n",
    "    purchase = torch.LongTensor(purchase)\n",
    "\n",
    "    # pad at the front\n",
    "    views = torch.tensor(torch.nn.utils.rnn.pad_sequence(views, batch_first=True, padding_value=n_items))\n",
    "    \n",
    "    return views, purchase"
   ]
  },
  {
   "cell_type": "code",
   "execution_count": 11,
   "metadata": {},
   "outputs": [],
   "source": [
    "# Train test split\n",
    "train_df = combined_df.copy().sample(frac=0.8, random_state=seed)\n",
    "test_df = combined_df.copy().drop(train_df.index)\n",
    "\n",
    "train_ds = CustomDataset(train_df)\n",
    "test_ds = CustomDataset(test_df)\n",
    "\n",
    "# Create dataloader\n",
    "train_loader = DataLoader(\n",
    "    train_ds,\n",
    "    collate_fn=collate_fn,\n",
    "    batch_size=BATCH_SIZE,\n",
    "    shuffle=True,\n",
    ")\n",
    "\n",
    "test_loader = DataLoader(\n",
    "    test_ds,\n",
    "    collate_fn=collate_fn,\n",
    "    batch_size=test_df.shape[0],\n",
    ")"
   ]
  },
  {
   "cell_type": "code",
   "execution_count": 12,
   "metadata": {},
   "outputs": [
    {
     "name": "stderr",
     "output_type": "stream",
     "text": [
      "/var/folders/sc/ms13ry7x46nd59scs4hqmj2r0000gn/T/ipykernel_17572/580473335.py:21: UserWarning: To copy construct from a tensor, it is recommended to use sourceTensor.clone().detach() or sourceTensor.clone().detach().requires_grad_(True), rather than torch.tensor(sourceTensor).\n",
      "  views = torch.tensor(torch.nn.utils.rnn.pad_sequence(views, batch_first=True, padding_value=n_items))\n"
     ]
    },
    {
     "data": {
      "text/plain": [
       "(tensor([[ 23, 613, 613,  ..., 613, 613, 613],\n",
       "         [465, 613, 613,  ..., 613, 613, 613],\n",
       "         [ 99, 613, 613,  ..., 613, 613, 613],\n",
       "         ...,\n",
       "         [282,   9, 324,  ..., 613, 613, 613],\n",
       "         [283, 283, 613,  ..., 613, 613, 613],\n",
       "         [ 60, 613, 613,  ..., 613, 613, 613]]),\n",
       " tensor([ 55, 467, 585, 201,  42, 119, 142, 570, 576, 366, 272, 422, 276,  78,\n",
       "         510, 197, 576,  11,  36, 199, 172, 382, 107, 436, 400, 418, 516, 602,\n",
       "         166, 432,  33, 559, 484,  98, 400, 195, 254, 145, 264, 576,  86,  72,\n",
       "         349, 525, 537, 347,  73, 243, 472, 398, 104, 444,  78, 271, 521, 567,\n",
       "          66,  21, 354, 417, 117, 237, 499, 424, 460, 176, 259, 501, 556, 151,\n",
       "         276, 243, 525, 242, 115, 318, 110, 486,  44, 142, 533,  54, 514, 122,\n",
       "         508,  96, 243, 583,  76, 294, 319, 305, 576, 285, 498, 164, 589, 593,\n",
       "         444, 207, 172, 392,  60, 437, 444, 156,  31, 445, 410, 165,  82,  60,\n",
       "         494, 183, 217, 545, 344, 258, 520, 608, 376, 213, 545, 566, 247, 447,\n",
       "         299, 225, 265, 496,  26,  83, 326, 488, 384,   5,  35, 221, 297,   2,\n",
       "          78, 540, 361, 481, 588, 609, 526, 298, 594, 107, 427, 245,  96, 597,\n",
       "         291, 362, 287,   7, 244, 294, 598, 288,  74,  30, 478,  90, 290, 477,\n",
       "         552, 571, 419, 545, 215, 331,  37, 193,  45, 607, 317, 201, 292, 251,\n",
       "         329, 136, 574, 249, 442, 265, 194, 573, 224, 295, 452, 255, 216, 281,\n",
       "         439, 554, 583, 209, 545, 583, 178, 525, 583,  22, 348, 438, 504,  46,\n",
       "         160,  52, 512, 433,  17, 274, 137, 429, 535, 582, 343, 361, 360, 163,\n",
       "         187, 294, 322, 106, 159, 328, 152,  41,   1,  60,  25, 413, 555, 198,\n",
       "         250,  47, 596, 474,   5,  78,  77, 559, 389, 299, 436, 110, 425, 272,\n",
       "         188,  51, 587,   7, 304, 525, 493, 464, 232, 332, 261, 131, 528, 391,\n",
       "         407, 161, 118, 560,  93, 550, 325, 594,  32, 110, 293, 160, 426, 431,\n",
       "          97, 558, 584,  91,  10, 184, 485, 181, 189, 350, 612, 517, 563,  24,\n",
       "         226, 198, 246, 187, 243,  89, 592, 415, 575, 602, 536, 530, 601, 604,\n",
       "         511, 309, 138, 121, 490,  71, 352,  20, 454,  40, 465, 129, 382, 545,\n",
       "         401, 464, 525, 313, 578, 211, 503, 158, 342, 292, 113, 395, 327, 579,\n",
       "         387, 341, 440,  30,  78, 480, 228, 210, 269, 220, 173, 204,  63,  57,\n",
       "         333, 357, 218, 268, 583,  12,  40, 396, 289, 355, 455, 527, 118, 492,\n",
       "         453,  64, 543, 185,  87, 532,  61,  80, 580, 279, 356, 144, 596, 240,\n",
       "         134,  84, 280, 123, 157, 116, 222,  19,  88, 388, 491, 397, 523, 567,\n",
       "          34, 168, 475, 286, 103, 609, 605, 149, 473, 394, 483, 154, 324, 505,\n",
       "         311, 308, 397, 511, 239, 604, 141, 524, 339, 239, 405, 229, 234, 382,\n",
       "         379, 223, 529,  94, 482, 382, 182, 230, 195,  78, 397, 299, 114, 281,\n",
       "         136, 132, 406, 300, 479, 569, 102, 185, 323,   0, 561, 590, 610, 525,\n",
       "         581, 101, 531, 557, 511, 127, 402, 201, 118, 583, 146, 548, 511, 448,\n",
       "         506, 190, 275, 256, 335,  69, 106, 212, 583, 462, 443, 404, 451, 502,\n",
       "         172, 321, 549, 135,  46, 549, 553, 373,  70, 174, 507, 208, 320, 583,\n",
       "         110, 525, 371, 539, 128, 534, 202, 150, 334,  50, 315, 603, 445, 277,\n",
       "          34, 133, 382, 367, 346, 421]))"
      ]
     },
     "execution_count": 12,
     "metadata": {},
     "output_type": "execute_result"
    }
   ],
   "source": [
    "# Sample batch output\n",
    "next(iter(train_loader))"
   ]
  },
  {
   "attachments": {},
   "cell_type": "markdown",
   "metadata": {},
   "source": [
    "### Defining the model"
   ]
  },
  {
   "cell_type": "code",
   "execution_count": 13,
   "metadata": {},
   "outputs": [],
   "source": [
    "model = GRU4Rec(\n",
    "    n_items=n_items,\n",
    "    latent_dim=LATENT_DIM,\n",
    ").to(device)"
   ]
  },
  {
   "cell_type": "code",
   "execution_count": 14,
   "metadata": {},
   "outputs": [],
   "source": [
    "opt = torch.optim.Adam(model.parameters(), lr=LEARNING_RATE)"
   ]
  },
  {
   "cell_type": "code",
   "execution_count": 15,
   "metadata": {},
   "outputs": [
    {
     "name": "stderr",
     "output_type": "stream",
     "text": [
      "/var/folders/sc/ms13ry7x46nd59scs4hqmj2r0000gn/T/ipykernel_17572/580473335.py:21: UserWarning: To copy construct from a tensor, it is recommended to use sourceTensor.clone().detach() or sourceTensor.clone().detach().requires_grad_(True), rather than torch.tensor(sourceTensor).\n",
      "  views = torch.tensor(torch.nn.utils.rnn.pad_sequence(views, batch_first=True, padding_value=n_items))\n"
     ]
    },
    {
     "name": "stdout",
     "output_type": "stream",
     "text": [
      "Epoch: 1, training_loss: 6.4243, validation_loss: 6.4182, hit_ratio: 0.0234, mrr: 0.0127\n",
      "Epoch: 2, training_loss: 6.4227, validation_loss: 6.4179, hit_ratio: 0.0234, mrr: 0.0126\n",
      "Epoch: 3, training_loss: 6.4212, validation_loss: 6.4176, hit_ratio: 0.0234, mrr: 0.0126\n",
      "Epoch: 4, training_loss: 6.4206, validation_loss: 6.4173, hit_ratio: 0.0234, mrr: 0.0126\n",
      "Epoch: 5, training_loss: 6.4183, validation_loss: 6.4170, hit_ratio: 0.0234, mrr: 0.0125\n",
      "Epoch: 6, training_loss: 6.4172, validation_loss: 6.4168, hit_ratio: 0.0234, mrr: 0.0125\n",
      "Epoch: 7, training_loss: 6.4158, validation_loss: 6.4166, hit_ratio: 0.0234, mrr: 0.0125\n",
      "Epoch: 8, training_loss: 6.4144, validation_loss: 6.4164, hit_ratio: 0.0156, mrr: 0.0065\n",
      "Epoch: 9, training_loss: 6.4126, validation_loss: 6.4162, hit_ratio: 0.0156, mrr: 0.0059\n",
      "Epoch: 10, training_loss: 6.4125, validation_loss: 6.4161, hit_ratio: 0.0156, mrr: 0.0046\n",
      "Epoch: 11, training_loss: 6.4120, validation_loss: 6.4160, hit_ratio: 0.0156, mrr: 0.0042\n",
      "Epoch: 12, training_loss: 6.4100, validation_loss: 6.4159, hit_ratio: 0.0156, mrr: 0.0042\n",
      "Epoch: 13, training_loss: 6.4077, validation_loss: 6.4158, hit_ratio: 0.0391, mrr: 0.0068\n",
      "Epoch: 14, training_loss: 6.4083, validation_loss: 6.4158, hit_ratio: 0.0391, mrr: 0.0075\n",
      "Epoch: 15, training_loss: 6.4080, validation_loss: 6.4158, hit_ratio: 0.0391, mrr: 0.0081\n",
      "Epoch: 16, training_loss: 6.4048, validation_loss: 6.4158, hit_ratio: 0.0391, mrr: 0.0086\n",
      "Epoch: 17, training_loss: 6.4025, validation_loss: 6.4158, hit_ratio: 0.0391, mrr: 0.0106\n",
      "Epoch: 18, training_loss: 6.3998, validation_loss: 6.4159, hit_ratio: 0.0391, mrr: 0.0102\n",
      "Epoch: 19, training_loss: 6.4024, validation_loss: 6.4160, hit_ratio: 0.0391, mrr: 0.0102\n",
      "Epoch: 20, training_loss: 6.3992, validation_loss: 6.4162, hit_ratio: 0.0391, mrr: 0.0099\n"
     ]
    }
   ],
   "source": [
    "from rec_baseline.trainer import GRU4RecTrainer\n",
    "\n",
    "\n",
    "trainer = GRU4RecTrainer(\n",
    "    model=model, \n",
    "    optimizer=opt, \n",
    "    loss_fn=model.loss_fn,\n",
    "    device=device\n",
    ")\n",
    "\n",
    "hist = trainer.fit(\n",
    "    train_loader=train_loader,\n",
    "    val_loader=test_loader,\n",
    "    epochs=N_EPOCH,\n",
    "    verbose=1\n",
    ")"
   ]
  },
  {
   "cell_type": "code",
   "execution_count": 16,
   "metadata": {},
   "outputs": [
    {
     "data": {
      "image/png": "[encoded data removed]",
      "text/plain": [
       "<Figure size 640x480 with 1 Axes>"
      ]
     },
     "metadata": {},
     "output_type": "display_data"
    }
   ],
   "source": [
    "_ = plt.plot(hist[\"training_loss\"], label=\"Train\")\n",
    "_ = plt.plot(hist[\"validation_loss\"], label=\"Test\")\n",
    "_ = plt.xlabel(\"Timesteps\")\n",
    "_ = plt.ylabel(\"CE Loss\")\n",
    "_ = plt.legend()"
   ]
  },
  {
   "cell_type": "code",
   "execution_count": 17,
   "metadata": {},
   "outputs": [
    {
     "name": "stderr",
     "output_type": "stream",
     "text": [
      "/var/folders/sc/ms13ry7x46nd59scs4hqmj2r0000gn/T/ipykernel_17572/580473335.py:21: UserWarning: To copy construct from a tensor, it is recommended to use sourceTensor.clone().detach() or sourceTensor.clone().detach().requires_grad_(True), rather than torch.tensor(sourceTensor).\n",
      "  views = torch.tensor(torch.nn.utils.rnn.pad_sequence(views, batch_first=True, padding_value=n_items))\n"
     ]
    }
   ],
   "source": [
    "_ = model.eval()\n",
    "\n",
    "for views, purchase in test_loader:\n",
    "    pred = model.predict(views.to(device))"
   ]
  },
  {
   "cell_type": "code",
   "execution_count": 18,
   "metadata": {},
   "outputs": [],
   "source": [
    "from rec_baseline.metrics import get_hit_ratio, get_mrr"
   ]
  },
  {
   "cell_type": "code",
   "execution_count": 19,
   "metadata": {},
   "outputs": [
    {
     "data": {
      "text/plain": [
       "0.0390625"
      ]
     },
     "execution_count": 19,
     "metadata": {},
     "output_type": "execute_result"
    },
    {
     "data": {
      "text/plain": [
       "0.009895833"
      ]
     },
     "execution_count": 19,
     "metadata": {},
     "output_type": "execute_result"
    }
   ],
   "source": [
    "get_hit_ratio(pred, purchase)\n",
    "\n",
    "get_mrr(pred, purchase)"
   ]
  }
 ],
 "metadata": {
  "kernelspec": {
   "display_name": "Python 3 (ipykernel)",
   "language": "python",
   "name": "python3"
  },
  "language_info": {
   "codemirror_mode": {
    "name": "ipython",
    "version": 3
   },
   "file_extension": ".py",
   "mimetype": "text/x-python",
   "name": "python",
   "nbconvert_exporter": "python",
   "pygments_lexer": "ipython3",
   "version": "3.8.11"
  },
  "vscode": {
   "interpreter": {
    "hash": "afd1f7ffc062ff2fc07ba34d24902c57664ba1b7dda52fccc5b49867783f520c"
   }
  }
 },
 "nbformat": 4,
 "nbformat_minor": 4
}
